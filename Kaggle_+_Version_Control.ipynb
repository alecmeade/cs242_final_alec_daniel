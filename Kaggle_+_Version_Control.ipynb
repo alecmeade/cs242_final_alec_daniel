{
  "nbformat": 4,
  "nbformat_minor": 0,
  "metadata": {
    "colab": {
      "name": "Kaggle + Version Control.ipynb",
      "provenance": [],
      "collapsed_sections": [],
      "authorship_tag": "ABX9TyO8H2hiIssnMGIJ/0qK2DPD",
      "include_colab_link": true
    },
    "kernelspec": {
      "name": "python3",
      "display_name": "Python 3"
    }
  },
  "cells": [
    {
      "cell_type": "markdown",
      "metadata": {
        "id": "view-in-github",
        "colab_type": "text"
      },
      "source": [
        "<a href=\"https://colab.research.google.com/github/alecmeade/cs242_final_alec_daniel/blob/master/Kaggle_%2B_Version_Control.ipynb\" target=\"_parent\"><img src=\"https://colab.research.google.com/assets/colab-badge.svg\" alt=\"Open In Colab\"/></a>"
      ]
    },
    {
      "cell_type": "code",
      "metadata": {
        "id": "aAZO4B4NwtQy",
        "colab_type": "code",
        "colab": {},
        "cellView": "code"
      },
      "source": [
        "#@title Imports \n",
        "import os\n",
        "import tensorflow as tf\n",
        "from google.colab import drive"
      ],
      "execution_count": 0,
      "outputs": []
    },
    {
      "cell_type": "code",
      "metadata": {
        "id": "pooVb718287s",
        "colab_type": "code",
        "colab": {},
        "cellView": "code"
      },
      "source": [
        "#@title Constants\n",
        "KAGGLE_DIR = \"/content/gdrive/My Drive/Kaggle\"\n",
        "DATA_DIR = os.path.join(KAGGLE_DIR, \"Datasets\")\n",
        "IMG_DIR = os.path.join(DATA_DIR, \"frames\")"
      ],
      "execution_count": 0,
      "outputs": []
    },
    {
      "cell_type": "code",
      "metadata": {
        "id": "3BFYerKAxX_7",
        "colab_type": "code",
        "colab": {
          "base_uri": "https://localhost:8080/",
          "height": 360
        },
        "cellView": "code",
        "outputId": "d11f7101-09b1-41de-9e0f-3edc124d295b"
      },
      "source": [
        "#@title Get Datasets From Kaggle\n",
        "# Mounts your personal google drive onto the current machine\n",
        "drive.mount('/content/gdrive')\n",
        "\n",
        "# This is the google drive path where the kaggle.json API Key is stored.\n",
        "os.environ['KAGGLE_CONFIG_DIR'] = KAGGLE_DIR\n",
        "\n",
        "#changing the working directory\n",
        "%cd $KAGGLE_DIR\n",
        "\n",
        "# Try to create a directory for storing Kaggle data.\n",
        "os.makedirs(DATA_DIR, exist_ok=True)\n",
        "\n",
        "# Download CS242-Final Dataset from Kaggle.\n",
        "!kaggle datasets download -d alecmeade/cs242-final -p '$DATA_DIR'\n",
        "\n",
        "# Move to newly created dataset directory.\n",
        "%cd $DATA_DIR\n",
        "\n",
        "# Unzipping the zip files and deleting the zip files.\n",
        "!unzip \\*.zip  && rm *.zip\n"
      ],
      "execution_count": 69,
      "outputs": [
        {
          "output_type": "stream",
          "text": [
            "Drive already mounted at /content/gdrive; to attempt to forcibly remount, call drive.mount(\"/content/gdrive\", force_remount=True).\n",
            "/content/gdrive/My Drive/Kaggle\n",
            "Downloading cs242-final.zip to /Datasets\n",
            " 96% 530M/552M [00:02<00:00, 194MB/s]\n",
            "100% 552M/552M [00:02<00:00, 219MB/s]\n",
            "/Datasets\n",
            "Archive:  cs242-final.zip\n",
            "  inflating: frames/frame_00005.png  \n",
            "  inflating: frames/frame_00011.png  \n",
            "  inflating: frames/frame_00029.png  \n",
            "  inflating: frames/frame_00031.png  \n",
            "  inflating: frames/frame_00033.png  \n",
            "  inflating: frames/frame_00034.png  \n",
            "  inflating: frames/frame_00050.png  \n",
            "  inflating: frames/frame_00056.png  \n",
            "  inflating: frames/frame_00057.png  \n",
            "  inflating: frames/frame_00060.png  \n",
            "  inflating: frames/frame_00073.png  \n",
            "  inflating: frames/frame_00076.png  \n"
          ],
          "name": "stdout"
        }
      ]
    },
    {
      "cell_type": "code",
      "metadata": {
        "id": "TfC-B9TX0MNS",
        "colab_type": "code",
        "colab": {
          "base_uri": "https://localhost:8080/",
          "height": 1000
        },
        "cellView": "code",
        "outputId": "cbdcada2-d0d2-46cd-aeb3-358f44eb6731"
      },
      "source": [
        "#@title Read Dataset To Tensors\n",
        "tensors = []\n",
        "for img in os.listdir(IMG_DIR):\n",
        "  img_path = os.path.join(IMG_DIR, img)\n",
        "  print(img_path)\n",
        "  img_tensor = tf.io.decode_png(tf.io.read_file(img_path))\n",
        "  tensors.append(img_tensor)\n",
        "tensors[0]"
      ],
      "execution_count": 110,
      "outputs": [
        {
          "output_type": "stream",
          "text": [
            "/content/gdrive/My Drive/Kaggle/Datasets/frames/frame_00005.png\n",
            "/content/gdrive/My Drive/Kaggle/Datasets/frames/frame_00011.png\n",
            "/content/gdrive/My Drive/Kaggle/Datasets/frames/frame_00029.png\n",
            "/content/gdrive/My Drive/Kaggle/Datasets/frames/frame_00031.png\n",
            "/content/gdrive/My Drive/Kaggle/Datasets/frames/frame_00033.png\n",
            "/content/gdrive/My Drive/Kaggle/Datasets/frames/frame_00034.png\n",
            "/content/gdrive/My Drive/Kaggle/Datasets/frames/frame_00050.png\n",
            "/content/gdrive/My Drive/Kaggle/Datasets/frames/frame_00056.png\n",
            "/content/gdrive/My Drive/Kaggle/Datasets/frames/frame_00057.png\n",
            "/content/gdrive/My Drive/Kaggle/Datasets/frames/frame_00060.png\n",
            "/content/gdrive/My Drive/Kaggle/Datasets/frames/frame_00073.png\n",
            "/content/gdrive/My Drive/Kaggle/Datasets/frames/frame_00076.png\n"
          ],
          "name": "stdout"
        },
        {
          "output_type": "execute_result",
          "data": {
            "text/plain": [
              "<tf.Tensor: shape=(2048, 4096, 3), dtype=uint8, numpy=\n",
              "array([[[42, 32, 34],\n",
              "        [40, 29, 31],\n",
              "        [36, 31, 31],\n",
              "        ...,\n",
              "        [48, 41, 37],\n",
              "        [49, 42, 37],\n",
              "        [49, 43, 37]],\n",
              "\n",
              "       [[43, 35, 34],\n",
              "        [40, 31, 31],\n",
              "        [36, 31, 30],\n",
              "        ...,\n",
              "        [48, 41, 38],\n",
              "        [47, 40, 37],\n",
              "        [47, 40, 37]],\n",
              "\n",
              "       [[39, 33, 30],\n",
              "        [38, 32, 29],\n",
              "        [38, 32, 30],\n",
              "        ...,\n",
              "        [43, 38, 36],\n",
              "        [42, 37, 34],\n",
              "        [42, 36, 34]],\n",
              "\n",
              "       ...,\n",
              "\n",
              "       [[32, 30, 26],\n",
              "        [32, 29, 26],\n",
              "        [31, 29, 25],\n",
              "        ...,\n",
              "        [49, 41, 29],\n",
              "        [44, 38, 28],\n",
              "        [40, 34, 24]],\n",
              "\n",
              "       [[33, 30, 27],\n",
              "        [32, 30, 26],\n",
              "        [31, 29, 25],\n",
              "        ...,\n",
              "        [50, 43, 30],\n",
              "        [44, 38, 28],\n",
              "        [41, 34, 24]],\n",
              "\n",
              "       [[33, 30, 27],\n",
              "        [33, 30, 27],\n",
              "        [32, 29, 26],\n",
              "        ...,\n",
              "        [53, 46, 32],\n",
              "        [47, 41, 30],\n",
              "        [43, 37, 26]]], dtype=uint8)>"
            ]
          },
          "metadata": {
            "tags": []
          },
          "execution_count": 110
        }
      ]
    }
  ]
}