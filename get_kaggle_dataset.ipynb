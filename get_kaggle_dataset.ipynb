{
  "nbformat": 4,
  "nbformat_minor": 0,
  "metadata": {
    "colab": {
      "name": "get_kaggle_dataset.ipynb",
      "provenance": [],
      "collapsed_sections": [],
      "authorship_tag": "ABX9TyNyXKCEgrWyzUNrZoMUvUsY",
      "include_colab_link": true
    },
    "kernelspec": {
      "name": "python3",
      "display_name": "Python 3"
    }
  },
  "cells": [
    {
      "cell_type": "markdown",
      "metadata": {
        "id": "view-in-github",
        "colab_type": "text"
      },
      "source": [
        "<a href=\"https://colab.research.google.com/github/alecmeade/cs242_final_alec_daniel/blob/master/get_kaggle_dataset.ipynb\" target=\"_parent\"><img src=\"https://colab.research.google.com/assets/colab-badge.svg\" alt=\"Open In Colab\"/></a>"
      ]
    },
    {
      "cell_type": "code",
      "metadata": {
        "id": "aAZO4B4NwtQy",
        "colab_type": "code",
        "cellView": "code",
        "colab": {}
      },
      "source": [
        "#@title Imports \n",
        "import os\n",
        "import tensorflow as tf\n",
        "from google.colab import drive"
      ],
      "execution_count": 0,
      "outputs": []
    },
    {
      "cell_type": "code",
      "metadata": {
        "id": "3BFYerKAxX_7",
        "colab_type": "code",
        "cellView": "code",
        "colab": {}
      },
      "source": [
        "#@title Get Datasets From Kaggle\n",
        "KAGGLE_DIR = \"/content/gdrive/My Drive/Kaggle\"\n",
        "DATA_DIR = os.path.join(KAGGLE_DIR, \"Datasets\")\n",
        "IMG_DIR = os.path.join(DATA_DIR, \"frames\")\n",
        "\n",
        "# Mounts your personal google drive onto the current machine\n",
        "drive.mount('/content/gdrive')\n",
        "\n",
        "# This is the google drive path where the kaggle.json API Key is stored.\n",
        "os.environ['KAGGLE_CONFIG_DIR'] = KAGGLE_DIR\n",
        "\n",
        "#changing the working directory\n",
        "%cd $KAGGLE_DIR\n",
        "\n",
        "# Try to create a directory for storing Kaggle data.\n",
        "os.makedirs(DATA_DIR, exist_ok=True)\n",
        "\n",
        "# Download CS242-Final Dataset from Kaggle.\n",
        "!kaggle datasets download -d alecmeade/cs242-final -p '$DATA_DIR'\n",
        "\n",
        "# Move to newly created dataset directory.\n",
        "%cd $DATA_DIR\n",
        "\n",
        "# Unzipping the zip files and deleting the zip files.\n",
        "!unzip \\*.zip  && rm *.zip\n",
        "\n",
        "# Read Dataset To Tensors\n",
        "tensors = []\n",
        "for img in os.listdir(IMG_DIR):\n",
        "  img_path = os.path.join(IMG_DIR, img)\n",
        "  img_tensor = tf.io.decode_png(tf.io.read_file(img_path))\n",
        "  tensors.append(img_tensor)"
      ],
      "execution_count": 0,
      "outputs": []
    }
  ]
}